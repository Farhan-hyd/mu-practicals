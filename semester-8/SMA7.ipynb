{
  "nbformat": 4,
  "nbformat_minor": 0,
  "metadata": {
    "colab": {
      "provenance": []
    },
    "kernelspec": {
      "name": "python3",
      "display_name": "Python 3"
    },
    "language_info": {
      "name": "python"
    }
  },
  "cells": [
    {
      "cell_type": "code",
      "source": [
        "import eng_spacysentiment\n",
        "nlp = eng_spacysentiment.load()"
      ],
      "metadata": {
        "id": "oG7pt0Lpycyz"
      },
      "execution_count": null,
      "outputs": []
    },
    {
      "cell_type": "code",
      "source": [
        "import numpy as np\n",
        "import re\n",
        "\n",
        "def clean_tweet(tweet):\n",
        "    if type(tweet) == np.float:\n",
        "        return \"\"\n",
        "    temp = tweet.lower()\n",
        "    temp = re.sub(\"'\", \"\", temp) # to avoid removing contractions in english\n",
        "    temp = re.sub(\"@[A-Za-z0-9_]+\",\"\", temp)\n",
        "    temp = re.sub(\"#[A-Za-z0-9_]+\",\"\", temp)\n",
        "    temp = re.sub(r'http\\S+', '', temp)\n",
        "    temp = re.sub('[()!?]', ' ', temp)\n",
        "    temp = re.sub('\\[.*?\\]',' ', temp)\n",
        "    temp = re.sub(\"[^a-z0-9]\",\" \", temp)\n",
        "    temp = temp.split()\n",
        "    temp = [w for w in temp if not w in stopwords]\n",
        "    temp = \" \".join(word for word in temp)\n",
        "    return temp"
      ],
      "metadata": {
        "id": "ZbGmaqmfuC8S"
      },
      "execution_count": null,
      "outputs": []
    },
    {
      "cell_type": "code",
      "source": [
        "guatam = []\n",
        "stopwords = [\"for\", \"on\", \"an\", \"a\", \"of\", \"and\", \"in\", \"the\", \"to\", \"from\"]\n",
        "with open(\"/content/gautam_adani_tweets.txt\") as file:\n",
        "  guatam = list(file)"
      ],
      "metadata": {
        "id": "ZP5kv91OuC_n"
      },
      "execution_count": null,
      "outputs": []
    },
    {
      "cell_type": "code",
      "source": [
        "sebi = []\n",
        "with open(\"/content/sebi_tweets.txt\") as f:\n",
        "  sebi = list(f)\n",
        "\n",
        "budget = []\n",
        "with open(\"/content/twitter_budget_2023.txt\") as f:\n",
        "  budget = list(f)"
      ],
      "metadata": {
        "id": "0pOjkquVpBz_"
      },
      "execution_count": null,
      "outputs": []
    },
    {
      "cell_type": "code",
      "source": [
        "def get_emotions(tweets):\n",
        "  emotions = []\n",
        "  for tweet in tweets:\n",
        "    d = nlp(tweet)\n",
        "    emotions.append(d.cats)\n",
        "  return emotions"
      ],
      "metadata": {
        "id": "Smi3VP1GpBxb"
      },
      "execution_count": null,
      "outputs": []
    },
    {
      "cell_type": "code",
      "source": [
        "def analyse(emotions):\n",
        "  pos,neg = 0,0\n",
        "  for t in emotions:\n",
        "    p,n = t.keys()\n",
        "    if t[p]>t[n]:\n",
        "      pos+=1\n",
        "    else:\n",
        "      neg+=1\n",
        "  return pos,neg"
      ],
      "metadata": {
        "id": "F0ECoUPE5T83"
      },
      "execution_count": null,
      "outputs": []
    },
    {
      "cell_type": "code",
      "source": [
        "sebi_preproc = [clean_tweet(t) for t in sebi]\n",
        "budget_preproc = [clean_tweet(t) for t in budget]"
      ],
      "metadata": {
        "id": "Asf43GaLpB22"
      },
      "execution_count": null,
      "outputs": []
    },
    {
      "cell_type": "code",
      "source": [
        "gautam_emotions_spacy = get_emotions(guatam_preproc)"
      ],
      "metadata": {
        "id": "4WoVvXUw6YTJ"
      },
      "execution_count": null,
      "outputs": []
    },
    {
      "cell_type": "code",
      "source": [
        "sebi_emotions_spacy = get_emotions(sebi_preproc)\n",
        "budget_emotions_spacy = get_emotions(budget_preproc)"
      ],
      "metadata": {
        "id": "Hw_3HFI5pB5_"
      },
      "execution_count": null,
      "outputs": []
    },
    {
      "cell_type": "code",
      "source": [
        "gautam_emotions = analyse(gautam_emotions_spacy)\n",
        "sebi_emotions = analyse(sebi_emotions_spacy)\n",
        "budget_emotions = analyse(budget_emotions_spacy)"
      ],
      "metadata": {
        "id": "7AmQpBB86CV3"
      },
      "execution_count": null,
      "outputs": []
    },
    {
      "cell_type": "code",
      "source": [
        "print(\"Emotions score of Gautam Adani\",\"\\n Positive : \",gautam_emotions[0],\" Negative : \",gautam_emotions[1])\n",
        "print(\"Emotions score of SEBI\",\"\\n Positive : \",sebi_emotions[0],\" Negative : \",sebi_emotions[1])\n",
        "print(\"Emotions score of Budget 2023\",\"\\n Positive : \",budget_emotions[0],\" Negative : \",budget_emotions[1])"
      ],
      "metadata": {
        "colab": {
          "base_uri": "https://localhost:8080/"
        },
        "id": "Nho0nqSj5UJf",
        "outputId": "07aec9ae-fe2c-410e-c40f-bc4dede7414b"
      },
      "execution_count": null,
      "outputs": [
        {
          "output_type": "stream",
          "name": "stdout",
          "text": [
            "Emotions score of Gautam Adani \n",
            " Positive :  85  Negative :  17\n",
            "Emotions score of SEBI \n",
            " Positive :  74  Negative :  28\n",
            "Emotions score of Budget 2023 \n",
            " Positive :  99  Negative :  47\n"
          ]
        }
      ]
    }
  ]
}